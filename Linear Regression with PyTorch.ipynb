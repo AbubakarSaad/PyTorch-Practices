{
 "cells": [
  {
   "cell_type": "markdown",
   "metadata": {},
   "source": [
    "### Linear Regression with PyTorch\n",
    "\n",
    "About Linear Regression\n",
    "\n",
    "1.1 Simple Linear Regression Basics\n",
    "Allows us to understand relationship between two **continuous variables**\n",
    "Example\n",
    "    * x: independent variable\n",
    "        * weight\n",
    "    * y: dependent variable\n",
    "        * height\n",
    "* y = ax + B"
   ]
  },
  {
   "cell_type": "markdown",
   "metadata": {},
   "source": [
    "### Example of simple linear regression"
   ]
  },
  {
   "cell_type": "code",
   "execution_count": 2,
   "metadata": {},
   "outputs": [
    {
     "data": {
      "image/png": "[encoded data removed]",
      "text/plain": [
       "<Figure size 432x288 with 1 Axes>"
      ]
     },
     "metadata": {},
     "output_type": "display_data"
    }
   ],
   "source": [
    "import numpy as np\n",
    "import matplotlib.pyplot as plt\n",
    "\n",
    "np.random.seed(1)\n",
    "n = 50\n",
    "x = np.random.randn(n)\n",
    "y = x * np.random.randn(n)\n",
    "\n",
    "colors = np.random.rand(n)\n",
    "plt.plot(np.unique(x), np.poly1d(np.polyfit(x, y, 1))(np.unique(x)))\n",
    "\n",
    "plt.scatter(x, y, c=colors, alpha=0.5)\n",
    "plt.show()"
   ]
  },
  {
   "cell_type": "markdown",
   "metadata": {},
   "source": [
    "Model the behaviour between x and y variable\n",
    "When x increase y increases\n",
    "The main point its to see how linear regression trys to model a relationship between two variable\n",
    "Minimizes the error to fit the points."
   ]
  },
  {
   "cell_type": "markdown",
   "metadata": {},
   "source": [
    "### Aim of Linear Regression\n",
    "* Minimze the distance the points and line (y=ax + B)\n",
    "* Adjusting\n",
    "    * Coefficient: alpha\n",
    "    * Bias/Intercept: Beta"
   ]
  },
  {
   "cell_type": "markdown",
   "metadata": {},
   "source": [
    "### Building a Linear Regression Model with PyTorch"
   ]
  },
  {
   "cell_type": "raw",
   "metadata": {},
   "source": [
    "#### Example\n",
    "\n",
    "1. Coefficient: alpha = 2\n",
    "2. Bias/intercept: Beta = 1\n",
    "3. Equation: y = 2x + 1"
   ]
  },
  {
   "cell_type": "markdown",
   "metadata": {},
   "source": [
    "### Building a Toy Dataset"
   ]
  },
  {
   "cell_type": "code",
   "execution_count": 3,
   "metadata": {},
   "outputs": [],
   "source": [
    "x_values = [i for i in range(11)]"
   ]
  },
  {
   "cell_type": "code",
   "execution_count": 4,
   "metadata": {},
   "outputs": [
    {
     "data": {
      "text/plain": [
       "[0, 1, 2, 3, 4, 5, 6, 7, 8, 9, 10]"
      ]
     },
     "execution_count": 4,
     "metadata": {},
     "output_type": "execute_result"
    }
   ],
   "source": [
    "x_values"
   ]
  },
  {
   "cell_type": "code",
   "execution_count": 21,
   "metadata": {},
   "outputs": [
    {
     "data": {
      "text/plain": [
       "(11,)"
      ]
     },
     "execution_count": 21,
     "metadata": {},
     "output_type": "execute_result"
    }
   ],
   "source": [
    "# Convert to numpy \n",
    "x_train = np.array(x_values, dtype=np.float32)\n",
    "x_train.shape"
   ]
  },
  {
   "cell_type": "code",
   "execution_count": 22,
   "metadata": {},
   "outputs": [
    {
     "data": {
      "text/plain": [
       "(11, 1)"
      ]
     },
     "execution_count": 22,
     "metadata": {},
     "output_type": "execute_result"
    }
   ],
   "source": [
    "# IMPORTANT: 2D required\n",
    "x_train = x_train.reshape(-1,1)\n",
    "x_train.shape"
   ]
  },
  {
   "cell_type": "markdown",
   "metadata": {},
   "source": [
    "y = 2x + 1"
   ]
  },
  {
   "cell_type": "code",
   "execution_count": 23,
   "metadata": {},
   "outputs": [],
   "source": [
    "y_values = [2*i + 1 for i in x_values]"
   ]
  },
  {
   "cell_type": "code",
   "execution_count": 24,
   "metadata": {},
   "outputs": [
    {
     "data": {
      "text/plain": [
       "[1, 3, 5, 7, 9, 11, 13, 15, 17, 19, 21]"
      ]
     },
     "execution_count": 24,
     "metadata": {},
     "output_type": "execute_result"
    }
   ],
   "source": [
    "y_values"
   ]
  },
  {
   "cell_type": "code",
   "execution_count": 25,
   "metadata": {},
   "outputs": [
    {
     "data": {
      "text/plain": [
       "(11,)"
      ]
     },
     "execution_count": 25,
     "metadata": {},
     "output_type": "execute_result"
    }
   ],
   "source": [
    "# Convert to numpy \n",
    "y_train = np.array(y_values, dtype=np.float32)\n",
    "y_train.shape\n"
   ]
  },
  {
   "cell_type": "code",
   "execution_count": 26,
   "metadata": {},
   "outputs": [
    {
     "data": {
      "text/plain": [
       "(11, 1)"
      ]
     },
     "execution_count": 26,
     "metadata": {},
     "output_type": "execute_result"
    }
   ],
   "source": [
    "y_train = y_train.reshape(-1, 1)\n",
    "y_train.shape"
   ]
  },
  {
   "cell_type": "markdown",
   "metadata": {},
   "source": [
    "### Building Model"
   ]
  },
  {
   "cell_type": "markdown",
   "metadata": {},
   "source": [
    "Critical Imports"
   ]
  },
  {
   "cell_type": "code",
   "execution_count": 64,
   "metadata": {},
   "outputs": [],
   "source": [
    "import torch\n",
    "import torch.nn as nn\n",
    "from torch.autograd import Variable\n"
   ]
  },
  {
   "cell_type": "markdown",
   "metadata": {},
   "source": [
    "Create Model\n",
    "\n",
    "1. Linear model\n",
    "    * True Equation: y = 2x + 1\n",
    "2. Forward\n",
    "    * Example\n",
    "        * Input x = 1\n",
    "        * Output y(hat) = ?"
   ]
  },
  {
   "cell_type": "code",
   "execution_count": 63,
   "metadata": {},
   "outputs": [],
   "source": [
    "# Create a class\n",
    "class LinearRegressionModel(nn.Module):\n",
    "    def __init__(self, input_size, output_size):\n",
    "        super(LinearRegressionModel, self).__init__()\n",
    "        self.linear = nn.Linear(input_size, output_size)\n",
    "        \n",
    "    def forward(self, x):\n",
    "        out = self.linear(x)\n",
    "        return out"
   ]
  },
  {
   "cell_type": "markdown",
   "metadata": {},
   "source": [
    "Instantiate Model Class\n",
    "\n",
    "* input: [0, 1, 2, 3, 4, 5, 6, 7, 8, 9, 10]\n",
    "* output: [1, 3, 5, 7, 9, 11, 13 ,15, 17, 19, 21]"
   ]
  },
  {
   "cell_type": "code",
   "execution_count": 65,
   "metadata": {},
   "outputs": [],
   "source": [
    "input_dim = 1\n",
    "output_dim = 1\n",
    "\n",
    "model = LinearRegressionModel(input_dim, output_dim)"
   ]
  },
  {
   "cell_type": "markdown",
   "metadata": {},
   "source": [
    "#### Instantiate Losss Class\n",
    "\n",
    "* MSE Loss: Mean Squared Error\n",
    "* MSE = 1/n SUM (from n to i=1) (y(hat) - y(i))\n",
    "    * y(hat): prediction\n",
    "    * y: true value"
   ]
  },
  {
   "cell_type": "code",
   "execution_count": 66,
   "metadata": {},
   "outputs": [],
   "source": [
    "criterion = nn.MSELoss()"
   ]
  },
  {
   "cell_type": "markdown",
   "metadata": {},
   "source": [
    "#### Instantiate Optimizer Class\n",
    "\n",
    "* Simplified equation\n",
    "    * theta = theta - n(long) * delta(sub theta)\n",
    "        * theta: parameters (our variables)\n",
    "        * n(long): learning rate(how fast we want to learn)\n",
    "        * delta: parameters' gradients\n",
    "* Even simplier equation\n",
    "    * parameters = parameters - learning_rate * parameters_gradients\n",
    "        * parameters: alpha and Beta in y = ax + B\n",
    "        * desired parameters: alpha = 2 and Beta = 1 in y = 2x + 1"
   ]
  },
  {
   "cell_type": "code",
   "execution_count": 68,
   "metadata": {},
   "outputs": [],
   "source": [
    "learning_rate = 0.01\n",
    "\n",
    "optimizer = torch.optim.SGD(model.parameters(), lr=learning_rate)"
   ]
  },
  {
   "cell_type": "markdown",
   "metadata": {},
   "source": [
    "##### Train Model\n",
    "\n",
    "* 1 epoch: going through the whole x_train data once\n",
    "    * 100 epoch:\n",
    "        * 100x mapping x_train = [0, 1, 2, 3, 4, 5, 6, 7, 8, 9, 10]\n",
    "        \n",
    "* Process\n",
    "    1. Convert inputs/labels to variables\n",
    "    2. Clear gradient buffets\n",
    "    3. Get output given inputs\n",
    "    4. Get loss\n",
    "    5. Get gradients w.r.t parameters\n",
    "    6. Update parameters using gradients\n",
    "        * parameters = parameters - learning_rate * parameters_gradients\n",
    "    7. REPEAT"
   ]
  },
  {
   "cell_type": "code",
   "execution_count": 62,
   "metadata": {},
   "outputs": [],
   "source": [
    "epochs = 100"
   ]
  },
  {
   "cell_type": "code",
   "execution_count": 72,
   "metadata": {},
   "outputs": [
    {
     "name": "stdout",
     "output_type": "stream",
     "text": [
      "epoch 1, loss 0.2325035035610199\n",
      "epoch 2, loss 0.2299073338508606\n",
      "epoch 3, loss 0.22733989357948303\n",
      "epoch 4, loss 0.2248014509677887\n",
      "epoch 5, loss 0.22229085862636566\n",
      "epoch 6, loss 0.21980901062488556\n",
      "epoch 7, loss 0.21735425293445587\n",
      "epoch 8, loss 0.2149268537759781\n",
      "epoch 9, loss 0.21252693235874176\n",
      "epoch 10, loss 0.21015377342700958\n",
      "epoch 11, loss 0.20780691504478455\n",
      "epoch 12, loss 0.2054862380027771\n",
      "epoch 13, loss 0.2031918615102768\n",
      "epoch 14, loss 0.20092277228832245\n",
      "epoch 15, loss 0.19867926836013794\n",
      "epoch 16, loss 0.19646035134792328\n",
      "epoch 17, loss 0.19426655769348145\n",
      "epoch 18, loss 0.19209733605384827\n",
      "epoch 19, loss 0.18995237350463867\n",
      "epoch 20, loss 0.1878310739994049\n",
      "epoch 21, loss 0.18573351204395294\n",
      "epoch 22, loss 0.18365956842899323\n",
      "epoch 23, loss 0.18160849809646606\n",
      "epoch 24, loss 0.17958049476146698\n",
      "epoch 25, loss 0.17757508158683777\n",
      "epoch 26, loss 0.17559219896793365\n",
      "epoch 27, loss 0.173631489276886\n",
      "epoch 28, loss 0.1716926544904709\n",
      "epoch 29, loss 0.16977526247501373\n",
      "epoch 30, loss 0.16787943243980408\n",
      "epoch 31, loss 0.1660047173500061\n",
      "epoch 32, loss 0.16415081918239594\n",
      "epoch 33, loss 0.16231797635555267\n",
      "epoch 34, loss 0.16050542891025543\n",
      "epoch 35, loss 0.15871311724185944\n",
      "epoch 36, loss 0.15694060921669006\n",
      "epoch 37, loss 0.15518814325332642\n",
      "epoch 38, loss 0.15345513820648193\n",
      "epoch 39, loss 0.15174156427383423\n",
      "epoch 40, loss 0.15004704892635345\n",
      "epoch 41, loss 0.14837171137332916\n",
      "epoch 42, loss 0.14671479165554047\n",
      "epoch 43, loss 0.14507636427879333\n",
      "epoch 44, loss 0.14345631003379822\n",
      "epoch 45, loss 0.14185436069965363\n",
      "epoch 46, loss 0.14027032256126404\n",
      "epoch 47, loss 0.13870392739772797\n",
      "epoch 48, loss 0.13715508580207825\n",
      "epoch 49, loss 0.13562355935573578\n",
      "epoch 50, loss 0.1341090053319931\n",
      "epoch 51, loss 0.1326114535331726\n",
      "epoch 52, loss 0.1311306208372116\n",
      "epoch 53, loss 0.12966622412204742\n",
      "epoch 54, loss 0.1282183974981308\n",
      "epoch 55, loss 0.12678657472133636\n",
      "epoch 56, loss 0.1253705769777298\n",
      "epoch 57, loss 0.12397075444459915\n",
      "epoch 58, loss 0.12258631736040115\n",
      "epoch 59, loss 0.12121745944023132\n",
      "epoch 60, loss 0.11986374855041504\n",
      "epoch 61, loss 0.11852533370256424\n",
      "epoch 62, loss 0.11720175296068192\n",
      "epoch 63, loss 0.11589303612709045\n",
      "epoch 64, loss 0.11459877341985703\n",
      "epoch 65, loss 0.11331910640001297\n",
      "epoch 66, loss 0.11205372959375381\n",
      "epoch 67, loss 0.11080238968133926\n",
      "epoch 68, loss 0.1095651164650917\n",
      "epoch 69, loss 0.10834171622991562\n",
      "epoch 70, loss 0.10713169723749161\n",
      "epoch 71, loss 0.10593554377555847\n",
      "epoch 72, loss 0.10475242137908936\n",
      "epoch 73, loss 0.10358267277479172\n",
      "epoch 74, loss 0.10242610424757004\n",
      "epoch 75, loss 0.10128232836723328\n",
      "epoch 76, loss 0.10015132278203964\n",
      "epoch 77, loss 0.09903295338153839\n",
      "epoch 78, loss 0.09792707115411758\n",
      "epoch 79, loss 0.09683341532945633\n",
      "epoch 80, loss 0.09575211256742477\n",
      "epoch 81, loss 0.09468280524015427\n",
      "epoch 82, loss 0.09362555295228958\n",
      "epoch 83, loss 0.09257996827363968\n",
      "epoch 84, loss 0.0915462076663971\n",
      "epoch 85, loss 0.09052401036024094\n",
      "epoch 86, loss 0.08951305598020554\n",
      "epoch 87, loss 0.08851350098848343\n",
      "epoch 88, loss 0.08752518147230148\n",
      "epoch 89, loss 0.08654770255088806\n",
      "epoch 90, loss 0.08558133989572525\n",
      "epoch 91, loss 0.08462557196617126\n",
      "epoch 92, loss 0.08368062227964401\n",
      "epoch 93, loss 0.08274608105421066\n",
      "epoch 94, loss 0.08182210475206375\n",
      "epoch 95, loss 0.08090845495462418\n",
      "epoch 96, loss 0.08000496029853821\n",
      "epoch 97, loss 0.07911151647567749\n",
      "epoch 98, loss 0.07822822034358978\n",
      "epoch 99, loss 0.07735462486743927\n",
      "epoch 100, loss 0.07649076730012894\n"
     ]
    },
    {
     "name": "stderr",
     "output_type": "stream",
     "text": [
      "C:\\Users\\Abu\\Anaconda3\\envs\\ana36\\lib\\site-packages\\ipykernel_launcher.py:22: UserWarning: invalid index of a 0-dim tensor. This will be an error in PyTorch 0.5. Use tensor.item() to convert a 0-dim tensor to a Python number\n"
     ]
    }
   ],
   "source": [
    "for epoch in range(epochs): \n",
    "    epoch += 1\n",
    "    # Convert numpy array to torch Variable\n",
    "    inputs = Variable(torch.from_numpy(x_train))\n",
    "    labels = Variable(torch.from_numpy(y_train))\n",
    "    \n",
    "    # Clear gradients w.r.t parameters\n",
    "    optimizer.zero_grad()\n",
    "    \n",
    "    # Forward to get output\n",
    "    outputs = model(inputs)\n",
    "    \n",
    "    # Calculate Loss\n",
    "    loss = criterion(outputs, labels)\n",
    "    \n",
    "    # Getting gradients w.r.t parameters\n",
    "    loss.backward()\n",
    "    \n",
    "    # Updating parameters\n",
    "    optimizer.step()\n",
    "    \n",
    "    print('epoch {}, loss {}'.format(epoch, loss.data[0]))"
   ]
  },
  {
   "cell_type": "code",
   "execution_count": 73,
   "metadata": {},
   "outputs": [
    {
     "data": {
      "text/plain": [
       "array([[ 0.48552454],\n",
       "       [ 2.5596137 ],\n",
       "       [ 4.6337028 ],\n",
       "       [ 6.707792  ],\n",
       "       [ 8.78188   ],\n",
       "       [10.855969  ],\n",
       "       [12.9300585 ],\n",
       "       [15.004148  ],\n",
       "       [17.078238  ],\n",
       "       [19.152327  ],\n",
       "       [21.226416  ]], dtype=float32)"
      ]
     },
     "execution_count": 73,
     "metadata": {},
     "output_type": "execute_result"
    }
   ],
   "source": [
    "# Purely inference\n",
    "predicted = model(Variable(torch.from_numpy(x_train))).data.numpy()\n",
    "predicted"
   ]
  },
  {
   "cell_type": "code",
   "execution_count": 74,
   "metadata": {},
   "outputs": [
    {
     "data": {
      "text/plain": [
       "array([[ 1.],\n",
       "       [ 3.],\n",
       "       [ 5.],\n",
       "       [ 7.],\n",
       "       [ 9.],\n",
       "       [11.],\n",
       "       [13.],\n",
       "       [15.],\n",
       "       [17.],\n",
       "       [19.],\n",
       "       [21.]], dtype=float32)"
      ]
     },
     "execution_count": 74,
     "metadata": {},
     "output_type": "execute_result"
    }
   ],
   "source": [
    "# y = 2x + 1\n",
    "y_train"
   ]
  },
  {
   "cell_type": "markdown",
   "metadata": {},
   "source": [
    "#### Plot Graph"
   ]
  },
  {
   "cell_type": "code",
   "execution_count": 75,
   "metadata": {},
   "outputs": [
    {
     "data": {
      "image/png": "[encoded data removed]",
      "text/plain": [
       "<Figure size 432x288 with 1 Axes>"
      ]
     },
     "metadata": {},
     "output_type": "display_data"
    }
   ],
   "source": [
    "# Clear figure\n",
    "plt.clf()\n",
    "\n",
    "# Get predictions\n",
    "predicted = model(Variable(torch.from_numpy(x_train))).data.numpy()\n",
    "\n",
    "# Plot true data\n",
    "plt.plot(x_train, y_train, 'go', label='True data', alpha=0.5)\n",
    "\n",
    "# Plot predictions\n",
    "plt.plot(x_train, predicted, '--', label='Predictions', alpha=0.5)\n",
    "\n",
    "# Legends and plot\n",
    "plt.legend(loc='best')\n",
    "plt.show()"
   ]
  },
  {
   "cell_type": "markdown",
   "metadata": {},
   "source": [
    "##### Save Model"
   ]
  },
  {
   "cell_type": "code",
   "execution_count": 76,
   "metadata": {},
   "outputs": [],
   "source": [
    "save_model = False\n",
    "if save_model is True:\n",
    "    # Save only parameters\n",
    "    torch.save(model.state_dict(), 'awesome_model.pkl')"
   ]
  },
  {
   "cell_type": "markdown",
   "metadata": {},
   "source": [
    "##### Load Model"
   ]
  },
  {
   "cell_type": "code",
   "execution_count": 77,
   "metadata": {},
   "outputs": [],
   "source": [
    "load_model = False\n",
    "if load_model is True:\n",
    "    model.load_state_dict(torch.load('awesome_model.pkl'))"
   ]
  }
 ],
 "metadata": {
  "kernelspec": {
   "display_name": "Python 3",
   "language": "python",
   "name": "python3"
  },
  "language_info": {
   "codemirror_mode": {
    "name": "ipython",
    "version": 3
   },
   "file_extension": ".py",
   "mimetype": "text/x-python",
   "name": "python",
   "nbconvert_exporter": "python",
   "pygments_lexer": "ipython3",
   "version": "3.6.6"
  }
 },
 "nbformat": 4,
 "nbformat_minor": 2
}
